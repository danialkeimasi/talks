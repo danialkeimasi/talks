{
 "cells": [
  {
   "cell_type": "code",
   "execution_count": 1,
   "metadata": {},
   "outputs": [],
   "source": [
    "from pympler.asizeof import asizeof # recursive sys.getsizeof"
   ]
  },
  {
   "attachments": {},
   "cell_type": "markdown",
   "metadata": {},
   "source": [
    "# Python Classes\n",
    "\n",
    "To write \"cleaner\", \"more performant\", \"safer\" classes.\n",
    "\n",
    "## Builtin Python Classes (normal vs slots)"
   ]
  },
  {
   "cell_type": "code",
   "execution_count": 2,
   "metadata": {},
   "outputs": [],
   "source": [
    "class Normal:\n",
    "    a: str = \"on normal class\"\n",
    "\n",
    "    def __init__(self):\n",
    "        self.b = \"on normal object\"\n",
    "        self.c = \"on normal object\""
   ]
  },
  {
   "cell_type": "code",
   "execution_count": 3,
   "metadata": {},
   "outputs": [
    {
     "name": "stdout",
     "output_type": "stream",
     "text": [
      "normal.a='on normal class', normal.b='on normal object', normal.c='on normal object'\n",
      "{'b': 'on normal object', 'c': 'on normal object'}\n",
      "on normal class\n"
     ]
    }
   ],
   "source": [
    "normal = Normal()\n",
    "print(f\"{normal.a=}, {normal.b=}, {normal.c=}\")\n",
    "print(normal.__dict__)\n",
    "print(Normal.__dict__[\"a\"])"
   ]
  },
  {
   "cell_type": "code",
   "execution_count": 4,
   "metadata": {},
   "outputs": [
    {
     "name": "stdout",
     "output_type": "stream",
     "text": [
      "{'b': 'on normal object', 'c': 'on normal object', 'new_attr': \"i'm new in town\"}\n"
     ]
    }
   ],
   "source": [
    "normal.new_attr = \"i'm new in town\"\n",
    "\n",
    "print(normal.__dict__)"
   ]
  },
  {
   "cell_type": "code",
   "execution_count": 5,
   "metadata": {},
   "outputs": [],
   "source": [
    "class WithSlots:\n",
    "    __slots__ = (\"b\", \"c\")\n",
    "\n",
    "    a: str = \"on with slots class\"\n",
    "\n",
    "    def __init__(self) -> None:\n",
    "        self.b = \"on with slots object\"\n",
    "        self.c = \"on with slots object\""
   ]
  },
  {
   "cell_type": "code",
   "execution_count": 6,
   "metadata": {},
   "outputs": [
    {
     "name": "stdout",
     "output_type": "stream",
     "text": [
      "with_slots.a='on with slots class', with_slots.b='on with slots object', with_slots.c='on with slots object'\n"
     ]
    }
   ],
   "source": [
    "with_slots = WithSlots()\n",
    "print(f\"{with_slots.a=}, {with_slots.b=}, {with_slots.c=}\")"
   ]
  },
  {
   "cell_type": "code",
   "execution_count": 7,
   "metadata": {},
   "outputs": [
    {
     "ename": "AttributeError",
     "evalue": "'WithSlots' object has no attribute '__dict__'",
     "output_type": "error",
     "traceback": [
      "\u001b[0;31m---------------------------------------------------------------------------\u001b[0m",
      "\u001b[0;31mAttributeError\u001b[0m                            Traceback (most recent call last)",
      "Cell \u001b[0;32mIn[7], line 1\u001b[0m\n\u001b[0;32m----> 1\u001b[0m \u001b[39mprint\u001b[39m(with_slots\u001b[39m.\u001b[39;49m\u001b[39m__dict__\u001b[39;49m)\n",
      "\u001b[0;31mAttributeError\u001b[0m: 'WithSlots' object has no attribute '__dict__'"
     ]
    }
   ],
   "source": [
    "print(with_slots.__dict__)"
   ]
  },
  {
   "cell_type": "code",
   "execution_count": null,
   "metadata": {},
   "outputs": [
    {
     "name": "stdout",
     "output_type": "stream",
     "text": [
      "{'__module__': '__main__', '__annotations__': {'a': <class 'str'>}, '__slots__': ('b', 'c'), 'a': 'on with slots class', '__init__': <function WithSlots.__init__ at 0x7efc5426ec20>, 'b': <member 'b' of 'WithSlots' objects>, 'c': <member 'c' of 'WithSlots' objects>, '__doc__': None}\n"
     ]
    }
   ],
   "source": [
    "print(WithSlots.__dict__)"
   ]
  },
  {
   "cell_type": "code",
   "execution_count": null,
   "metadata": {},
   "outputs": [
    {
     "data": {
      "text/plain": [
       "(464, 120, 3.8666666666666667)"
      ]
     },
     "execution_count": 10,
     "metadata": {},
     "output_type": "execute_result"
    }
   ],
   "source": [
    "asizeof(normal), asizeof(with_slots), asizeof(normal) / asizeof(with_slots)"
   ]
  },
  {
   "attachments": {},
   "cell_type": "markdown",
   "metadata": {},
   "source": [
    "# Data class solutions\n",
    "\n",
    "\n",
    "## benchmark\n",
    "- credits: https://www.youtube.com/watch?v=vCLetdhswMg\n",
    "\n",
    "![](images/benchmarks.png)"
   ]
  },
  {
   "attachments": {},
   "cell_type": "markdown",
   "metadata": {},
   "source": [
    "## DataClasses"
   ]
  },
  {
   "cell_type": "code",
   "execution_count": null,
   "metadata": {},
   "outputs": [],
   "source": [
    "from dataclasses import dataclass"
   ]
  },
  {
   "cell_type": "code",
   "execution_count": null,
   "metadata": {},
   "outputs": [],
   "source": [
    "@dataclass\n",
    "class DCNormal:\n",
    "    a: str\n",
    "    b: str\n",
    "    c: str = \"asifhasih ioahfoa\"\n",
    "    d: str = \"asifhasih ioahfoa\"\n",
    "    e: str = \"asifhasih ioahfoa\"\n",
    "    f: str = \"asifhasih ioahfoa\"\n",
    "    g: str = \"asifhasih ioahfoa\"\n",
    "    h: str = \"asifhasih ioahfoa\"\n",
    "    i: str = \"asifhasih ioahfoa\"\n",
    "\n",
    "\n",
    "@dataclass(slots=True) # dataclass slots are added after python 3.10\n",
    "class DCWithSlots:\n",
    "    a: str\n",
    "    b: str\n",
    "    c: str = \"asifhasih ioahfoa\"\n",
    "    d: str = \"asifhasih ioahfoa\"\n",
    "    e: str = \"asifhasih ioahfoa\"\n",
    "    f: str = \"asifhasih ioahfoa\"\n",
    "    g: str = \"asifhasih ioahfoa\"\n",
    "    h: str = \"asifhasih ioahfoa\"\n",
    "    i: str = \"asifhasih ioahfoa\"\n",
    "\n",
    "dc_normal = DCNormal(a=\"samme khales\", b=\"samme nakhales\")\n",
    "dc_with_slots = DCWithSlots(a=\"samme khales\", b=\"samme nakhales\")"
   ]
  },
  {
   "cell_type": "code",
   "execution_count": null,
   "metadata": {},
   "outputs": [
    {
     "data": {
      "text/plain": [
       "2.9473684210526314"
      ]
     },
     "execution_count": 30,
     "metadata": {},
     "output_type": "execute_result"
    }
   ],
   "source": [
    "asizeof(dc_normal) / asizeof(dc_with_slots)"
   ]
  },
  {
   "attachments": {},
   "cell_type": "markdown",
   "metadata": {},
   "source": [
    "# Attrs\n",
    "\n",
    "- [docs](https://www.attrs.org/en/stable/)\n",
    "- [Github](https://github.com/python-attrs/attrs)"
   ]
  },
  {
   "cell_type": "code",
   "execution_count": null,
   "metadata": {},
   "outputs": [],
   "source": [
    "import attrs"
   ]
  },
  {
   "cell_type": "code",
   "execution_count": null,
   "metadata": {},
   "outputs": [],
   "source": [
    "def slug_validator(instance, attribute, value):\n",
    "    import re\n",
    "    if not re.match(r\"^[a-zA-Z_]+$\", value):\n",
    "        raise ValueError(\"bad slug\")\n",
    "\n",
    "\n",
    "@attrs.define\n",
    "class Animal:\n",
    "    slug: str = attrs.field(validator=[attrs.validators.instance_of(str), slug_validator])\n",
    "    age: int = attrs.field(converter=int, default=0)\n",
    "    social_links: list[str] = attrs.Factory(list)\n",
    "\n",
    "    @slug.validator\n",
    "    def animal_slug_validator(self, attribute, value):\n",
    "        if not value.endswith(\"_animal\"):\n",
    "            raise ValueError(\"slug should ends with _animal.\")\n"
   ]
  },
  {
   "cell_type": "code",
   "execution_count": null,
   "metadata": {},
   "outputs": [
    {
     "ename": "ValueError",
     "evalue": "bad slug",
     "output_type": "error",
     "traceback": [
      "\u001b[0;31m---------------------------------------------------------------------------\u001b[0m",
      "\u001b[0;31mValueError\u001b[0m                                Traceback (most recent call last)",
      "Cell \u001b[0;32mIn[16], line 1\u001b[0m\n\u001b[0;32m----> 1\u001b[0m Animal(slug\u001b[39m=\u001b[39;49m\u001b[39m\"\u001b[39;49m\u001b[39msam _animal\u001b[39;49m\u001b[39m\"\u001b[39;49m)\n",
      "File \u001b[0;32m<attrs generated init __main__.Animal>:6\u001b[0m, in \u001b[0;36m__init__\u001b[0;34m(self, slug, age)\u001b[0m\n\u001b[1;32m      4\u001b[0m _setattr(\u001b[39m'\u001b[39m\u001b[39mage\u001b[39m\u001b[39m'\u001b[39m, __attr_converter_age(age))\n\u001b[1;32m      5\u001b[0m \u001b[39mif\u001b[39;00m _config\u001b[39m.\u001b[39m_run_validators \u001b[39mis\u001b[39;00m \u001b[39mTrue\u001b[39;00m:\n\u001b[0;32m----> 6\u001b[0m     __attr_validator_slug(\u001b[39mself\u001b[39;49m, __attr_slug, \u001b[39mself\u001b[39;49m\u001b[39m.\u001b[39;49mslug)\n",
      "File \u001b[0;32m~/.pyenv/versions/3.10.8/envs/lab/lib/python3.10/site-packages/attr/_make.py:2905\u001b[0m, in \u001b[0;36m_AndValidator.__call__\u001b[0;34m(self, inst, attr, value)\u001b[0m\n\u001b[1;32m   2903\u001b[0m \u001b[39mdef\u001b[39;00m \u001b[39m__call__\u001b[39m(\u001b[39mself\u001b[39m, inst, attr, value):\n\u001b[1;32m   2904\u001b[0m     \u001b[39mfor\u001b[39;00m v \u001b[39min\u001b[39;00m \u001b[39mself\u001b[39m\u001b[39m.\u001b[39m_validators:\n\u001b[0;32m-> 2905\u001b[0m         v(inst, attr, value)\n",
      "Cell \u001b[0;32mIn[15], line 4\u001b[0m, in \u001b[0;36mslug_validator\u001b[0;34m(instance, attribute, value)\u001b[0m\n\u001b[1;32m      2\u001b[0m \u001b[39mimport\u001b[39;00m \u001b[39mre\u001b[39;00m\n\u001b[1;32m      3\u001b[0m \u001b[39mif\u001b[39;00m \u001b[39mnot\u001b[39;00m re\u001b[39m.\u001b[39mmatch(\u001b[39mr\u001b[39m\u001b[39m\"\u001b[39m\u001b[39m^[a-zA-Z_]+$\u001b[39m\u001b[39m\"\u001b[39m, value):\n\u001b[0;32m----> 4\u001b[0m     \u001b[39mraise\u001b[39;00m \u001b[39mValueError\u001b[39;00m(\u001b[39m\"\u001b[39m\u001b[39mbad slug\u001b[39m\u001b[39m\"\u001b[39m)\n",
      "\u001b[0;31mValueError\u001b[0m: bad slug"
     ]
    }
   ],
   "source": [
    "Animal(slug=\"sam _animal\")"
   ]
  },
  {
   "cell_type": "code",
   "execution_count": null,
   "metadata": {},
   "outputs": [
    {
     "ename": "ValueError",
     "evalue": "slug should ends with _animal.",
     "output_type": "error",
     "traceback": [
      "\u001b[0;31m---------------------------------------------------------------------------\u001b[0m",
      "\u001b[0;31mValueError\u001b[0m                                Traceback (most recent call last)",
      "Cell \u001b[0;32mIn[17], line 1\u001b[0m\n\u001b[0;32m----> 1\u001b[0m Animal(slug\u001b[39m=\u001b[39;49m\u001b[39m\"\u001b[39;49m\u001b[39msam_anima\u001b[39;49m\u001b[39m\"\u001b[39;49m)\n",
      "File \u001b[0;32m<attrs generated init __main__.Animal>:6\u001b[0m, in \u001b[0;36m__init__\u001b[0;34m(self, slug, age)\u001b[0m\n\u001b[1;32m      4\u001b[0m _setattr(\u001b[39m'\u001b[39m\u001b[39mage\u001b[39m\u001b[39m'\u001b[39m, __attr_converter_age(age))\n\u001b[1;32m      5\u001b[0m \u001b[39mif\u001b[39;00m _config\u001b[39m.\u001b[39m_run_validators \u001b[39mis\u001b[39;00m \u001b[39mTrue\u001b[39;00m:\n\u001b[0;32m----> 6\u001b[0m     __attr_validator_slug(\u001b[39mself\u001b[39;49m, __attr_slug, \u001b[39mself\u001b[39;49m\u001b[39m.\u001b[39;49mslug)\n",
      "File \u001b[0;32m~/.pyenv/versions/3.10.8/envs/lab/lib/python3.10/site-packages/attr/_make.py:2905\u001b[0m, in \u001b[0;36m_AndValidator.__call__\u001b[0;34m(self, inst, attr, value)\u001b[0m\n\u001b[1;32m   2903\u001b[0m \u001b[39mdef\u001b[39;00m \u001b[39m__call__\u001b[39m(\u001b[39mself\u001b[39m, inst, attr, value):\n\u001b[1;32m   2904\u001b[0m     \u001b[39mfor\u001b[39;00m v \u001b[39min\u001b[39;00m \u001b[39mself\u001b[39m\u001b[39m.\u001b[39m_validators:\n\u001b[0;32m-> 2905\u001b[0m         v(inst, attr, value)\n",
      "Cell \u001b[0;32mIn[15], line 16\u001b[0m, in \u001b[0;36mAnimal.animal_slug_validator\u001b[0;34m(self, attribute, value)\u001b[0m\n\u001b[1;32m     13\u001b[0m \u001b[39m@slug\u001b[39m\u001b[39m.\u001b[39mvalidator\n\u001b[1;32m     14\u001b[0m \u001b[39mdef\u001b[39;00m \u001b[39manimal_slug_validator\u001b[39m(\u001b[39mself\u001b[39m, attribute, value):\n\u001b[1;32m     15\u001b[0m     \u001b[39mif\u001b[39;00m \u001b[39mnot\u001b[39;00m value\u001b[39m.\u001b[39mendswith(\u001b[39m\"\u001b[39m\u001b[39m_animal\u001b[39m\u001b[39m\"\u001b[39m):\n\u001b[0;32m---> 16\u001b[0m         \u001b[39mraise\u001b[39;00m \u001b[39mValueError\u001b[39;00m(\u001b[39m\"\u001b[39m\u001b[39mslug should ends with _animal.\u001b[39m\u001b[39m\"\u001b[39m)\n",
      "\u001b[0;31mValueError\u001b[0m: slug should ends with _animal."
     ]
    }
   ],
   "source": [
    "Animal(slug=\"sam_anima\")"
   ]
  },
  {
   "cell_type": "code",
   "execution_count": null,
   "metadata": {},
   "outputs": [
    {
     "data": {
      "text/plain": [
       "Animal(slug='sam_animal', age=0)"
      ]
     },
     "execution_count": 18,
     "metadata": {},
     "output_type": "execute_result"
    }
   ],
   "source": [
    "Animal(slug=\"sam_animal\")"
   ]
  },
  {
   "attachments": {},
   "cell_type": "markdown",
   "metadata": {},
   "source": [
    "frozen instead of define"
   ]
  },
  {
   "cell_type": "code",
   "execution_count": null,
   "metadata": {},
   "outputs": [],
   "source": [
    "@attrs.frozen(kw_only=True, slots=True)\n",
    "class Action:\n",
    "    slug: attrs.field(validator=[slug_validator])\n",
    "    name: str"
   ]
  },
  {
   "cell_type": "code",
   "execution_count": null,
   "metadata": {},
   "outputs": [],
   "source": [
    "action = Action(slug=\"move\", name=\"moves the user somewhere else.\")"
   ]
  },
  {
   "cell_type": "code",
   "execution_count": null,
   "metadata": {},
   "outputs": [
    {
     "ename": "FrozenInstanceError",
     "evalue": "",
     "output_type": "error",
     "traceback": [
      "\u001b[0;31m---------------------------------------------------------------------------\u001b[0m",
      "\u001b[0;31mFrozenInstanceError\u001b[0m                       Traceback (most recent call last)",
      "Cell \u001b[0;32mIn[21], line 1\u001b[0m\n\u001b[0;32m----> 1\u001b[0m action\u001b[39m.\u001b[39;49mslug \u001b[39m+\u001b[39m\u001b[39m=\u001b[39m \u001b[39m\"\u001b[39m\u001b[39m_sam\u001b[39m\u001b[39m\"\u001b[39m\n",
      "File \u001b[0;32m~/.pyenv/versions/3.10.8/envs/lab/lib/python3.10/site-packages/attr/_make.py:606\u001b[0m, in \u001b[0;36m_frozen_setattrs\u001b[0;34m(self, name, value)\u001b[0m\n\u001b[1;32m    602\u001b[0m \u001b[39mdef\u001b[39;00m \u001b[39m_frozen_setattrs\u001b[39m(\u001b[39mself\u001b[39m, name, value):\n\u001b[1;32m    603\u001b[0m \u001b[39m    \u001b[39m\u001b[39m\"\"\"\u001b[39;00m\n\u001b[1;32m    604\u001b[0m \u001b[39m    Attached to frozen classes as __setattr__.\u001b[39;00m\n\u001b[1;32m    605\u001b[0m \u001b[39m    \"\"\"\u001b[39;00m\n\u001b[0;32m--> 606\u001b[0m     \u001b[39mraise\u001b[39;00m FrozenInstanceError()\n",
      "\u001b[0;31mFrozenInstanceError\u001b[0m: "
     ]
    }
   ],
   "source": [
    "action.slug += \"_sam\""
   ]
  },
  {
   "attachments": {},
   "cell_type": "markdown",
   "metadata": {},
   "source": [
    "Repr, eq"
   ]
  },
  {
   "cell_type": "code",
   "execution_count": null,
   "metadata": {},
   "outputs": [],
   "source": [
    "@attrs.define(slots=True)\n",
    "class User:\n",
    "    email: str\n",
    "    password: str = attrs.field(repr=lambda a: \"***\", eq=False)\n",
    "    name: str | None = attrs.field(eq=False, default=None)"
   ]
  },
  {
   "cell_type": "code",
   "execution_count": null,
   "metadata": {},
   "outputs": [
    {
     "data": {
      "text/plain": [
       "(User(email='m@g.com', password=***, name=None),\n",
       " User(email='m@g.com', password=***, name='Mamad Goverment'))"
      ]
     },
     "execution_count": 23,
     "metadata": {},
     "output_type": "execute_result"
    }
   ],
   "source": [
    "u1 = User(email=\"m@g.com\", password=\"omg\")\n",
    "u2 = User(email=\"m@g.com\", password=\"nomg\", name=\"Mamad Goverment\")\n",
    "\n",
    "u1, u2"
   ]
  },
  {
   "cell_type": "code",
   "execution_count": null,
   "metadata": {},
   "outputs": [
    {
     "data": {
      "text/plain": [
       "True"
      ]
     },
     "execution_count": 24,
     "metadata": {},
     "output_type": "execute_result"
    }
   ],
   "source": [
    "u1 == u2"
   ]
  }
 ],
 "metadata": {
  "kernelspec": {
   "display_name": "lab",
   "language": "python",
   "name": "python3"
  },
  "language_info": {
   "codemirror_mode": {
    "name": "ipython",
    "version": 3
   },
   "file_extension": ".py",
   "mimetype": "text/x-python",
   "name": "python",
   "nbconvert_exporter": "python",
   "pygments_lexer": "ipython3",
   "version": "3.10.8 (main, Nov  6 2022, 22:34:11) [GCC 12.2.0]"
  },
  "orig_nbformat": 4,
  "vscode": {
   "interpreter": {
    "hash": "2167ae3151c9ce9818f967438f59d267b2a1d83d7439d6d4b00cd1fab89dcf4f"
   }
  }
 },
 "nbformat": 4,
 "nbformat_minor": 2
}
